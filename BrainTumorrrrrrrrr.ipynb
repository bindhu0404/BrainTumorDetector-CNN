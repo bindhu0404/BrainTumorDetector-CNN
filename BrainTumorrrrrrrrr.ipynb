{
  "nbformat": 4,
  "nbformat_minor": 0,
  "metadata": {
    "colab": {
      "provenance": [],
      "authorship_tag": "ABX9TyOBboGtjr4p74uOUzSVdSbS",
      "include_colab_link": true
    },
    "kernelspec": {
      "name": "python3",
      "display_name": "Python 3"
    },
    "language_info": {
      "name": "python"
    }
  },
  "cells": [
    {
      "cell_type": "markdown",
      "metadata": {
        "id": "view-in-github",
        "colab_type": "text"
      },
      "source": [
        "<a href=\"https://colab.research.google.com/github/bindhu0404/BrainTumorDetector-CNN/blob/main/BrainTumorrrrrrrrr.ipynb\" target=\"_parent\"><img src=\"https://colab.research.google.com/assets/colab-badge.svg\" alt=\"Open In Colab\"/></a>"
      ]
    },
    {
      "cell_type": "code",
      "execution_count": null,
      "metadata": {
        "id": "qGMq7d7BXSNP"
      },
      "outputs": [],
      "source": [
        "import warnings\n",
        "warnings.filterwarnings('ignore')"
      ]
    },
    {
      "cell_type": "code",
      "source": [
        "!wget https://www.dropbox.com/scl/fi/4q4ezdn1busmmiftomd2m/archive.zip?rlkey=st0caljrmbvz5mlzczrp1r0ml&st=scvef52f&dl=0"
      ],
      "metadata": {
        "colab": {
          "base_uri": "https://localhost:8080/"
        },
        "id": "DH6GfjJNXZsZ",
        "outputId": "ce2a238c-3356-453b-9273-779e758e1f44"
      },
      "execution_count": null,
      "outputs": [
        {
          "output_type": "stream",
          "name": "stdout",
          "text": [
            "--2025-02-01 16:35:22--  https://www.dropbox.com/scl/fi/4q4ezdn1busmmiftomd2m/archive.zip?rlkey=st0caljrmbvz5mlzczrp1r0ml\n",
            "Resolving www.dropbox.com (www.dropbox.com)... 162.125.5.18, 2620:100:601d:18::a27d:512\n",
            "Connecting to www.dropbox.com (www.dropbox.com)|162.125.5.18|:443... connected.\n",
            "HTTP request sent, awaiting response... 302 Found\n",
            "Location: https://uc8b451647b75ca6afa5a3cc92e2.dl.dropboxusercontent.com/cd/0/inline/CjTFV6m5mufTPnDTCuzR15XsHk3SrSiol9j_1b9HcQXTjSsQUf7oXIjv_DN5YhxCwy3BYLZyvti8oTxfsmv36NmlZgaAlodJVwmqmKnF2eK0GiUzYmMsVH2FsUvb2KeVaV8LbgZji4XJHwoj2Xt3Z5iI/file# [following]\n",
            "--2025-02-01 16:35:22--  https://uc8b451647b75ca6afa5a3cc92e2.dl.dropboxusercontent.com/cd/0/inline/CjTFV6m5mufTPnDTCuzR15XsHk3SrSiol9j_1b9HcQXTjSsQUf7oXIjv_DN5YhxCwy3BYLZyvti8oTxfsmv36NmlZgaAlodJVwmqmKnF2eK0GiUzYmMsVH2FsUvb2KeVaV8LbgZji4XJHwoj2Xt3Z5iI/file\n",
            "Resolving uc8b451647b75ca6afa5a3cc92e2.dl.dropboxusercontent.com (uc8b451647b75ca6afa5a3cc92e2.dl.dropboxusercontent.com)... 162.125.5.15, 2620:100:601d:15::a27d:50f\n",
            "Connecting to uc8b451647b75ca6afa5a3cc92e2.dl.dropboxusercontent.com (uc8b451647b75ca6afa5a3cc92e2.dl.dropboxusercontent.com)|162.125.5.15|:443... connected.\n",
            "HTTP request sent, awaiting response... 302 Found\n",
            "Location: /cd/0/inline2/CjQ1DwFhKNOkOMQqCvmXdCoO76owNf-ybQmClY8oOQvuVzmxJ9Qg3VRd3OI1_EljF_DztoZenJR0_dq4X2NecJzp4yU4p0daV6ltXnWrkv4nFUbTYjL6D45wS7CqzCOirGbJxBg9KX53-rLIjWzdGcL--U-RqlPb7KPFcyXdXiMimyvbKHW5BjrNowcvzBiuEikw80psf3YVnlzGGHsxhT_o-sBEZSFuzyC244aqpjCWhA2sY-8z_OXBaUMFrfjaqIZtggIPJT1Am7PCl-mtYXLJognai-LRWq5OzeLqPo2hfHWi3F83PDl2VA638oFG84Nukcjjov_mAZa0h7c9s44MuhLEcM0-1HamG9EhzLjkCIIyRvGkfdltifasQP-Jg4c/file [following]\n",
            "--2025-02-01 16:35:23--  https://uc8b451647b75ca6afa5a3cc92e2.dl.dropboxusercontent.com/cd/0/inline2/CjQ1DwFhKNOkOMQqCvmXdCoO76owNf-ybQmClY8oOQvuVzmxJ9Qg3VRd3OI1_EljF_DztoZenJR0_dq4X2NecJzp4yU4p0daV6ltXnWrkv4nFUbTYjL6D45wS7CqzCOirGbJxBg9KX53-rLIjWzdGcL--U-RqlPb7KPFcyXdXiMimyvbKHW5BjrNowcvzBiuEikw80psf3YVnlzGGHsxhT_o-sBEZSFuzyC244aqpjCWhA2sY-8z_OXBaUMFrfjaqIZtggIPJT1Am7PCl-mtYXLJognai-LRWq5OzeLqPo2hfHWi3F83PDl2VA638oFG84Nukcjjov_mAZa0h7c9s44MuhLEcM0-1HamG9EhzLjkCIIyRvGkfdltifasQP-Jg4c/file\n",
            "Reusing existing connection to uc8b451647b75ca6afa5a3cc92e2.dl.dropboxusercontent.com:443.\n",
            "HTTP request sent, awaiting response... 200 OK\n",
            "Length: 15828590 (15M) [application/zip]\n",
            "Saving to: ‘archive.zip?rlkey=st0caljrmbvz5mlzczrp1r0ml’\n",
            "\n",
            "archive.zip?rlkey=s 100%[===================>]  15.09M  60.8MB/s    in 0.2s    \n",
            "\n",
            "2025-02-01 16:35:24 (60.8 MB/s) - ‘archive.zip?rlkey=st0caljrmbvz5mlzczrp1r0ml’ saved [15828590/15828590]\n",
            "\n"
          ]
        }
      ]
    },
    {
      "cell_type": "code",
      "source": [
        "!unzip /content/archive.zip?rlkey=st0caljrmbvz5mlzczrp1r0ml"
      ],
      "metadata": {
        "colab": {
          "base_uri": "https://localhost:8080/"
        },
        "id": "2TNvxBt4XhGV",
        "outputId": "3f027996-418c-46a7-d86e-7f32d655deb0"
      },
      "execution_count": null,
      "outputs": [
        {
          "output_type": "stream",
          "name": "stdout",
          "text": [
            "Archive:  /content/archive.zip?rlkey=st0caljrmbvz5mlzczrp1r0ml\n",
            "  inflating: brain_tumor_dataset/no/1 no.jpeg  \n",
            "  inflating: brain_tumor_dataset/no/10 no.jpg  \n",
            "  inflating: brain_tumor_dataset/no/11 no.jpg  \n",
            "  inflating: brain_tumor_dataset/no/12 no.jpg  \n",
            "  inflating: brain_tumor_dataset/no/13 no.jpg  \n",
            "  inflating: brain_tumor_dataset/no/14 no.jpg  \n",
            "  inflating: brain_tumor_dataset/no/15 no.jpg  \n",
            "  inflating: brain_tumor_dataset/no/17 no.jpg  \n",
            "  inflating: brain_tumor_dataset/no/18 no.jpg  \n",
            "  inflating: brain_tumor_dataset/no/19 no.jpg  \n",
            "  inflating: brain_tumor_dataset/no/2 no.jpeg  \n",
            "  inflating: brain_tumor_dataset/no/20 no.jpg  \n",
            "  inflating: brain_tumor_dataset/no/21 no.jpg  \n",
            "  inflating: brain_tumor_dataset/no/22 no.jpg  \n",
            "  inflating: brain_tumor_dataset/no/23 no.jpg  \n",
            "  inflating: brain_tumor_dataset/no/24 no.jpg  \n",
            "  inflating: brain_tumor_dataset/no/25 no.jpg  \n",
            "  inflating: brain_tumor_dataset/no/26 no.jpg  \n",
            "  inflating: brain_tumor_dataset/no/27 no.jpg  \n",
            "  inflating: brain_tumor_dataset/no/28 no.jpg  \n",
            "  inflating: brain_tumor_dataset/no/29 no.jpg  \n",
            "  inflating: brain_tumor_dataset/no/3 no.jpg  \n",
            "  inflating: brain_tumor_dataset/no/30 no.jpg  \n",
            "  inflating: brain_tumor_dataset/no/31 no.jpg  \n",
            "  inflating: brain_tumor_dataset/no/32 no.jpg  \n",
            "  inflating: brain_tumor_dataset/no/33 no.jpg  \n",
            "  inflating: brain_tumor_dataset/no/34 no.jpg  \n",
            "  inflating: brain_tumor_dataset/no/35 no.jpg  \n",
            "  inflating: brain_tumor_dataset/no/36 no.jpg  \n",
            "  inflating: brain_tumor_dataset/no/37 no.jpg  \n",
            "  inflating: brain_tumor_dataset/no/38 no.jpg  \n",
            "  inflating: brain_tumor_dataset/no/39 no.jpg  \n",
            "  inflating: brain_tumor_dataset/no/4 no.jpg  \n",
            "  inflating: brain_tumor_dataset/no/40 no.jpg  \n",
            "  inflating: brain_tumor_dataset/no/41 no.jpg  \n",
            "  inflating: brain_tumor_dataset/no/42 no.jpg  \n",
            "  inflating: brain_tumor_dataset/no/43 no.jpg  \n",
            "  inflating: brain_tumor_dataset/no/44no.jpg  \n",
            "  inflating: brain_tumor_dataset/no/45 no.jpg  \n",
            "  inflating: brain_tumor_dataset/no/46 no.jpg  \n",
            "  inflating: brain_tumor_dataset/no/47 no.jpg  \n",
            "  inflating: brain_tumor_dataset/no/48 no.jpeg  \n",
            "  inflating: brain_tumor_dataset/no/49 no.jpg  \n",
            "  inflating: brain_tumor_dataset/no/5 no.jpg  \n",
            "  inflating: brain_tumor_dataset/no/50 no.jpg  \n",
            "  inflating: brain_tumor_dataset/no/6 no.jpg  \n",
            "  inflating: brain_tumor_dataset/no/7 no.jpg  \n",
            "  inflating: brain_tumor_dataset/no/8 no.jpg  \n",
            "  inflating: brain_tumor_dataset/no/9 no.jpg  \n",
            "  inflating: brain_tumor_dataset/no/N1.JPG  \n",
            "  inflating: brain_tumor_dataset/no/N11.jpg  \n",
            "  inflating: brain_tumor_dataset/no/N15.jpg  \n",
            "  inflating: brain_tumor_dataset/no/N16.jpg  \n",
            "  inflating: brain_tumor_dataset/no/N17.jpg  \n",
            "  inflating: brain_tumor_dataset/no/N19.JPG  \n",
            "  inflating: brain_tumor_dataset/no/N2.JPG  \n",
            "  inflating: brain_tumor_dataset/no/N20.JPG  \n",
            "  inflating: brain_tumor_dataset/no/N21.jpg  \n",
            "  inflating: brain_tumor_dataset/no/N22.JPG  \n",
            "  inflating: brain_tumor_dataset/no/N26.JPG  \n",
            "  inflating: brain_tumor_dataset/no/N3.jpg  \n",
            "  inflating: brain_tumor_dataset/no/N5.jpg  \n",
            "  inflating: brain_tumor_dataset/no/N6.jpg  \n",
            "  inflating: brain_tumor_dataset/no/No11.jpg  \n",
            "  inflating: brain_tumor_dataset/no/No12.jpg  \n",
            "  inflating: brain_tumor_dataset/no/No13.jpg  \n",
            "  inflating: brain_tumor_dataset/no/No14.jpg  \n",
            "  inflating: brain_tumor_dataset/no/No15.jpg  \n",
            "  inflating: brain_tumor_dataset/no/No16.jpg  \n",
            "  inflating: brain_tumor_dataset/no/No17.jpg  \n",
            "  inflating: brain_tumor_dataset/no/No18.jpg  \n",
            "  inflating: brain_tumor_dataset/no/No19.jpg  \n",
            "  inflating: brain_tumor_dataset/no/No20.jpg  \n",
            "  inflating: brain_tumor_dataset/no/No21.jpg  \n",
            "  inflating: brain_tumor_dataset/no/No22.jpg  \n",
            "  inflating: brain_tumor_dataset/no/no 1.jpg  \n",
            "  inflating: brain_tumor_dataset/no/no 10.jpg  \n",
            "  inflating: brain_tumor_dataset/no/no 100.jpg  \n",
            "  inflating: brain_tumor_dataset/no/no 2.jpg  \n",
            "  inflating: brain_tumor_dataset/no/no 3.jpg  \n",
            "  inflating: brain_tumor_dataset/no/no 4.jpg  \n",
            "  inflating: brain_tumor_dataset/no/no 5.jpeg  \n",
            "  inflating: brain_tumor_dataset/no/no 6.jpg  \n",
            "  inflating: brain_tumor_dataset/no/no 7.jpeg  \n",
            "  inflating: brain_tumor_dataset/no/no 8.jpg  \n",
            "  inflating: brain_tumor_dataset/no/no 89.jpg  \n",
            "  inflating: brain_tumor_dataset/no/no 9.png  \n",
            "  inflating: brain_tumor_dataset/no/no 90.jpg  \n",
            "  inflating: brain_tumor_dataset/no/no 91.jpeg  \n",
            "  inflating: brain_tumor_dataset/no/no 92.jpg  \n",
            "  inflating: brain_tumor_dataset/no/no 923.jpg  \n",
            "  inflating: brain_tumor_dataset/no/no 94.jpg  \n",
            "  inflating: brain_tumor_dataset/no/no 95.jpg  \n",
            "  inflating: brain_tumor_dataset/no/no 96.jpg  \n",
            "  inflating: brain_tumor_dataset/no/no 97.jpg  \n",
            "  inflating: brain_tumor_dataset/no/no 98.jpg  \n",
            "  inflating: brain_tumor_dataset/no/no 99.jpg  \n",
            "  inflating: brain_tumor_dataset/no/no.jpg  \n",
            "  inflating: brain_tumor_dataset/yes/Y1.jpg  \n",
            "  inflating: brain_tumor_dataset/yes/Y10.jpg  \n",
            "  inflating: brain_tumor_dataset/yes/Y100.JPG  \n",
            "  inflating: brain_tumor_dataset/yes/Y101.jpg  \n",
            "  inflating: brain_tumor_dataset/yes/Y102.jpg  \n",
            "  inflating: brain_tumor_dataset/yes/Y103.jpg  \n",
            "  inflating: brain_tumor_dataset/yes/Y104.jpg  \n",
            "  inflating: brain_tumor_dataset/yes/Y105.jpg  \n",
            "  inflating: brain_tumor_dataset/yes/Y106.jpg  \n",
            "  inflating: brain_tumor_dataset/yes/Y107.jpg  \n",
            "  inflating: brain_tumor_dataset/yes/Y108.jpg  \n",
            "  inflating: brain_tumor_dataset/yes/Y109.JPG  \n",
            "  inflating: brain_tumor_dataset/yes/Y11.jpg  \n",
            "  inflating: brain_tumor_dataset/yes/Y111.JPG  \n",
            "  inflating: brain_tumor_dataset/yes/Y112.JPG  \n",
            "  inflating: brain_tumor_dataset/yes/Y113.JPG  \n",
            "  inflating: brain_tumor_dataset/yes/Y114.JPG  \n",
            "  inflating: brain_tumor_dataset/yes/Y115.JPG  \n",
            "  inflating: brain_tumor_dataset/yes/Y116.JPG  \n",
            "  inflating: brain_tumor_dataset/yes/Y117.JPG  \n",
            "  inflating: brain_tumor_dataset/yes/Y12.jpg  \n",
            "  inflating: brain_tumor_dataset/yes/Y120.JPG  \n",
            "  inflating: brain_tumor_dataset/yes/Y13.jpg  \n",
            "  inflating: brain_tumor_dataset/yes/Y14.jpg  \n",
            "  inflating: brain_tumor_dataset/yes/Y146.JPG  \n",
            "  inflating: brain_tumor_dataset/yes/Y147.JPG  \n",
            "  inflating: brain_tumor_dataset/yes/Y148.JPG  \n",
            "  inflating: brain_tumor_dataset/yes/Y15.jpg  \n",
            "  inflating: brain_tumor_dataset/yes/Y153.jpg  \n",
            "  inflating: brain_tumor_dataset/yes/Y154.jpg  \n",
            "  inflating: brain_tumor_dataset/yes/Y155.JPG  \n",
            "  inflating: brain_tumor_dataset/yes/Y156.JPG  \n",
            "  inflating: brain_tumor_dataset/yes/Y157.JPG  \n",
            "  inflating: brain_tumor_dataset/yes/Y158.JPG  \n",
            "  inflating: brain_tumor_dataset/yes/Y159.JPG  \n",
            "  inflating: brain_tumor_dataset/yes/Y16.JPG  \n",
            "  inflating: brain_tumor_dataset/yes/Y160.JPG  \n",
            "  inflating: brain_tumor_dataset/yes/Y161.JPG  \n",
            "  inflating: brain_tumor_dataset/yes/Y162.jpg  \n",
            "  inflating: brain_tumor_dataset/yes/Y163.JPG  \n",
            "  inflating: brain_tumor_dataset/yes/Y164.JPG  \n",
            "  inflating: brain_tumor_dataset/yes/Y165.JPG  \n",
            "  inflating: brain_tumor_dataset/yes/Y166.JPG  \n",
            "  inflating: brain_tumor_dataset/yes/Y167.JPG  \n",
            "  inflating: brain_tumor_dataset/yes/Y168.jpg  \n",
            "  inflating: brain_tumor_dataset/yes/Y169.jpg  \n",
            "  inflating: brain_tumor_dataset/yes/Y17.jpg  \n",
            "  inflating: brain_tumor_dataset/yes/Y170.JPG  \n",
            "  inflating: brain_tumor_dataset/yes/Y18.JPG  \n",
            "  inflating: brain_tumor_dataset/yes/Y180.jpg  \n",
            "  inflating: brain_tumor_dataset/yes/Y181.jpg  \n",
            "  inflating: brain_tumor_dataset/yes/Y182.JPG  \n",
            "  inflating: brain_tumor_dataset/yes/Y183.jpg  \n",
            "  inflating: brain_tumor_dataset/yes/Y184.JPG  \n",
            "  inflating: brain_tumor_dataset/yes/Y185.jpg  \n",
            "  inflating: brain_tumor_dataset/yes/Y186.jpg  \n",
            "  inflating: brain_tumor_dataset/yes/Y187.jpg  \n",
            "  inflating: brain_tumor_dataset/yes/Y188.jpg  \n",
            "  inflating: brain_tumor_dataset/yes/Y19.JPG  \n",
            "  inflating: brain_tumor_dataset/yes/Y192.JPG  \n",
            "  inflating: brain_tumor_dataset/yes/Y193.JPG  \n",
            "  inflating: brain_tumor_dataset/yes/Y194.jpg  \n",
            "  inflating: brain_tumor_dataset/yes/Y195.JPG  \n",
            "  inflating: brain_tumor_dataset/yes/Y2.jpg  \n",
            "  inflating: brain_tumor_dataset/yes/Y20.jpg  \n",
            "  inflating: brain_tumor_dataset/yes/Y21.jpg  \n",
            "  inflating: brain_tumor_dataset/yes/Y22.jpg  \n",
            "  inflating: brain_tumor_dataset/yes/Y23.JPG  \n",
            "  inflating: brain_tumor_dataset/yes/Y24.jpg  \n",
            "  inflating: brain_tumor_dataset/yes/Y242.JPG  \n",
            "  inflating: brain_tumor_dataset/yes/Y243.JPG  \n",
            "  inflating: brain_tumor_dataset/yes/Y244.JPG  \n",
            "  inflating: brain_tumor_dataset/yes/Y245.jpg  \n",
            "  inflating: brain_tumor_dataset/yes/Y246.JPG  \n",
            "  inflating: brain_tumor_dataset/yes/Y247.JPG  \n",
            "  inflating: brain_tumor_dataset/yes/Y248.JPG  \n",
            "  inflating: brain_tumor_dataset/yes/Y249.JPG  \n",
            "  inflating: brain_tumor_dataset/yes/Y25.jpg  \n",
            "  inflating: brain_tumor_dataset/yes/Y250.jpg  \n",
            "  inflating: brain_tumor_dataset/yes/Y251.JPG  \n",
            "  inflating: brain_tumor_dataset/yes/Y252.jpg  \n",
            "  inflating: brain_tumor_dataset/yes/Y253.JPG  \n",
            "  inflating: brain_tumor_dataset/yes/Y254.jpg  \n",
            "  inflating: brain_tumor_dataset/yes/Y255.JPG  \n",
            "  inflating: brain_tumor_dataset/yes/Y256.JPG  \n",
            "  inflating: brain_tumor_dataset/yes/Y257.jpg  \n",
            "  inflating: brain_tumor_dataset/yes/Y258.JPG  \n",
            "  inflating: brain_tumor_dataset/yes/Y259.JPG  \n",
            "  inflating: brain_tumor_dataset/yes/Y26.jpg  \n",
            "  inflating: brain_tumor_dataset/yes/Y27.jpg  \n",
            "  inflating: brain_tumor_dataset/yes/Y28.jpg  \n",
            "  inflating: brain_tumor_dataset/yes/Y29.jpg  \n",
            "  inflating: brain_tumor_dataset/yes/Y3.jpg  \n",
            "  inflating: brain_tumor_dataset/yes/Y30.jpg  \n",
            "  inflating: brain_tumor_dataset/yes/Y31.jpg  \n",
            "  inflating: brain_tumor_dataset/yes/Y32.jpg  \n",
            "  inflating: brain_tumor_dataset/yes/Y33.jpg  \n",
            "  inflating: brain_tumor_dataset/yes/Y34.jpg  \n",
            "  inflating: brain_tumor_dataset/yes/Y35.jpg  \n",
            "  inflating: brain_tumor_dataset/yes/Y36.JPG  \n",
            "  inflating: brain_tumor_dataset/yes/Y37.jpg  \n",
            "  inflating: brain_tumor_dataset/yes/Y38.jpg  \n",
            "  inflating: brain_tumor_dataset/yes/Y39.jpg  \n",
            "  inflating: brain_tumor_dataset/yes/Y4.jpg  \n",
            "  inflating: brain_tumor_dataset/yes/Y40.JPG  \n",
            "  inflating: brain_tumor_dataset/yes/Y41.jpg  \n",
            "  inflating: brain_tumor_dataset/yes/Y42.jpg  \n",
            "  inflating: brain_tumor_dataset/yes/Y44.JPG  \n",
            "  inflating: brain_tumor_dataset/yes/Y45.JPG  \n",
            "  inflating: brain_tumor_dataset/yes/Y46.jpg  \n",
            "  inflating: brain_tumor_dataset/yes/Y47.JPG  \n",
            "  inflating: brain_tumor_dataset/yes/Y49.JPG  \n",
            "  inflating: brain_tumor_dataset/yes/Y50.JPG  \n",
            "  inflating: brain_tumor_dataset/yes/Y51.jpg  \n",
            "  inflating: brain_tumor_dataset/yes/Y52.jpg  \n",
            "  inflating: brain_tumor_dataset/yes/Y53.jpg  \n",
            "  inflating: brain_tumor_dataset/yes/Y54.jpg  \n",
            "  inflating: brain_tumor_dataset/yes/Y55.jpg  \n",
            "  inflating: brain_tumor_dataset/yes/Y56.jpg  \n",
            "  inflating: brain_tumor_dataset/yes/Y58.JPG  \n",
            "  inflating: brain_tumor_dataset/yes/Y59.JPG  \n",
            "  inflating: brain_tumor_dataset/yes/Y6.jpg  \n",
            "  inflating: brain_tumor_dataset/yes/Y60.jpg  \n",
            "  inflating: brain_tumor_dataset/yes/Y61.jpg  \n",
            "  inflating: brain_tumor_dataset/yes/Y62.jpg  \n",
            "  inflating: brain_tumor_dataset/yes/Y65.JPG  \n",
            "  inflating: brain_tumor_dataset/yes/Y66.JPG  \n",
            "  inflating: brain_tumor_dataset/yes/Y67.JPG  \n",
            "  inflating: brain_tumor_dataset/yes/Y69.jpg  \n",
            "  inflating: brain_tumor_dataset/yes/Y7.jpg  \n",
            "  inflating: brain_tumor_dataset/yes/Y70.jpg  \n",
            "  inflating: brain_tumor_dataset/yes/Y71.JPG  \n",
            "  inflating: brain_tumor_dataset/yes/Y73.jpg  \n",
            "  inflating: brain_tumor_dataset/yes/Y74.jpg  \n",
            "  inflating: brain_tumor_dataset/yes/Y75.JPG  \n",
            "  inflating: brain_tumor_dataset/yes/Y76.jpg  \n",
            "  inflating: brain_tumor_dataset/yes/Y77.jpg  \n",
            "  inflating: brain_tumor_dataset/yes/Y78.jpg  \n",
            "  inflating: brain_tumor_dataset/yes/Y79.jpg  \n",
            "  inflating: brain_tumor_dataset/yes/Y8.jpg  \n",
            "  inflating: brain_tumor_dataset/yes/Y81.jpg  \n",
            "  inflating: brain_tumor_dataset/yes/Y82.jpg  \n",
            "  inflating: brain_tumor_dataset/yes/Y85.JPG  \n",
            "  inflating: brain_tumor_dataset/yes/Y86.JPG  \n",
            "  inflating: brain_tumor_dataset/yes/Y89.JPG  \n",
            "  inflating: brain_tumor_dataset/yes/Y9.jpg  \n",
            "  inflating: brain_tumor_dataset/yes/Y90.jpg  \n",
            "  inflating: brain_tumor_dataset/yes/Y91.jpg  \n",
            "  inflating: brain_tumor_dataset/yes/Y92.jpg  \n",
            "  inflating: brain_tumor_dataset/yes/Y92.png  \n",
            "  inflating: brain_tumor_dataset/yes/Y95.jpg  \n",
            "  inflating: brain_tumor_dataset/yes/Y96.jpg  \n",
            "  inflating: brain_tumor_dataset/yes/Y97.JPG  \n",
            "  inflating: brain_tumor_dataset/yes/Y98.JPG  \n",
            "  inflating: brain_tumor_dataset/yes/Y99.JPG  \n",
            "  inflating: no/1 no.jpeg            \n",
            "  inflating: no/10 no.jpg            \n",
            "  inflating: no/11 no.jpg            \n",
            "  inflating: no/12 no.jpg            \n",
            "  inflating: no/13 no.jpg            \n",
            "  inflating: no/14 no.jpg            \n",
            "  inflating: no/15 no.jpg            \n",
            "  inflating: no/17 no.jpg            \n",
            "  inflating: no/18 no.jpg            \n",
            "  inflating: no/19 no.jpg            \n",
            "  inflating: no/2 no.jpeg            \n",
            "  inflating: no/20 no.jpg            \n",
            "  inflating: no/21 no.jpg            \n",
            "  inflating: no/22 no.jpg            \n",
            "  inflating: no/23 no.jpg            \n",
            "  inflating: no/24 no.jpg            \n",
            "  inflating: no/25 no.jpg            \n",
            "  inflating: no/26 no.jpg            \n",
            "  inflating: no/27 no.jpg            \n",
            "  inflating: no/28 no.jpg            \n",
            "  inflating: no/29 no.jpg            \n",
            "  inflating: no/3 no.jpg             \n",
            "  inflating: no/30 no.jpg            \n",
            "  inflating: no/31 no.jpg            \n",
            "  inflating: no/32 no.jpg            \n",
            "  inflating: no/33 no.jpg            \n",
            "  inflating: no/34 no.jpg            \n",
            "  inflating: no/35 no.jpg            \n",
            "  inflating: no/36 no.jpg            \n",
            "  inflating: no/37 no.jpg            \n",
            "  inflating: no/38 no.jpg            \n",
            "  inflating: no/39 no.jpg            \n",
            "  inflating: no/4 no.jpg             \n",
            "  inflating: no/40 no.jpg            \n",
            "  inflating: no/41 no.jpg            \n",
            "  inflating: no/42 no.jpg            \n",
            "  inflating: no/43 no.jpg            \n",
            "  inflating: no/44no.jpg             \n",
            "  inflating: no/45 no.jpg            \n",
            "  inflating: no/46 no.jpg            \n",
            "  inflating: no/47 no.jpg            \n",
            "  inflating: no/48 no.jpeg           \n",
            "  inflating: no/49 no.jpg            \n",
            "  inflating: no/5 no.jpg             \n",
            "  inflating: no/50 no.jpg            \n",
            "  inflating: no/6 no.jpg             \n",
            "  inflating: no/7 no.jpg             \n",
            "  inflating: no/8 no.jpg             \n",
            "  inflating: no/9 no.jpg             \n",
            "  inflating: no/N1.JPG               \n",
            "  inflating: no/N11.jpg              \n",
            "  inflating: no/N15.jpg              \n",
            "  inflating: no/N16.jpg              \n",
            "  inflating: no/N17.jpg              \n",
            "  inflating: no/N19.JPG              \n",
            "  inflating: no/N2.JPG               \n",
            "  inflating: no/N20.JPG              \n",
            "  inflating: no/N21.jpg              \n",
            "  inflating: no/N22.JPG              \n",
            "  inflating: no/N26.JPG              \n",
            "  inflating: no/N3.jpg               \n",
            "  inflating: no/N5.jpg               \n",
            "  inflating: no/N6.jpg               \n",
            "  inflating: no/No11.jpg             \n",
            "  inflating: no/No12.jpg             \n",
            "  inflating: no/No13.jpg             \n",
            "  inflating: no/No14.jpg             \n",
            "  inflating: no/No15.jpg             \n",
            "  inflating: no/No16.jpg             \n",
            "  inflating: no/No17.jpg             \n",
            "  inflating: no/No18.jpg             \n",
            "  inflating: no/No19.jpg             \n",
            "  inflating: no/No20.jpg             \n",
            "  inflating: no/No21.jpg             \n",
            "  inflating: no/No22.jpg             \n",
            "  inflating: no/no 1.jpg             \n",
            "  inflating: no/no 10.jpg            \n",
            "  inflating: no/no 100.jpg           \n",
            "  inflating: no/no 2.jpg             \n",
            "  inflating: no/no 3.jpg             \n",
            "  inflating: no/no 4.jpg             \n",
            "  inflating: no/no 5.jpeg            \n",
            "  inflating: no/no 6.jpg             \n",
            "  inflating: no/no 7.jpeg            \n",
            "  inflating: no/no 8.jpg             \n",
            "  inflating: no/no 89.jpg            \n",
            "  inflating: no/no 9.png             \n",
            "  inflating: no/no 90.jpg            \n",
            "  inflating: no/no 91.jpeg           \n",
            "  inflating: no/no 92.jpg            \n",
            "  inflating: no/no 923.jpg           \n",
            "  inflating: no/no 94.jpg            \n",
            "  inflating: no/no 95.jpg            \n",
            "  inflating: no/no 96.jpg            \n",
            "  inflating: no/no 97.jpg            \n",
            "  inflating: no/no 98.jpg            \n",
            "  inflating: no/no 99.jpg            \n",
            "  inflating: no/no.jpg               \n",
            "  inflating: yes/Y1.jpg              \n",
            "  inflating: yes/Y10.jpg             \n",
            "  inflating: yes/Y100.JPG            \n",
            "  inflating: yes/Y101.jpg            \n",
            "  inflating: yes/Y102.jpg            \n",
            "  inflating: yes/Y103.jpg            \n",
            "  inflating: yes/Y104.jpg            \n",
            "  inflating: yes/Y105.jpg            \n",
            "  inflating: yes/Y106.jpg            \n",
            "  inflating: yes/Y107.jpg            \n",
            "  inflating: yes/Y108.jpg            \n",
            "  inflating: yes/Y109.JPG            \n",
            "  inflating: yes/Y11.jpg             \n",
            "  inflating: yes/Y111.JPG            \n",
            "  inflating: yes/Y112.JPG            \n",
            "  inflating: yes/Y113.JPG            \n",
            "  inflating: yes/Y114.JPG            \n",
            "  inflating: yes/Y115.JPG            \n",
            "  inflating: yes/Y116.JPG            \n",
            "  inflating: yes/Y117.JPG            \n",
            "  inflating: yes/Y12.jpg             \n",
            "  inflating: yes/Y120.JPG            \n",
            "  inflating: yes/Y13.jpg             \n",
            "  inflating: yes/Y14.jpg             \n",
            "  inflating: yes/Y146.JPG            \n",
            "  inflating: yes/Y147.JPG            \n",
            "  inflating: yes/Y148.JPG            \n",
            "  inflating: yes/Y15.jpg             \n",
            "  inflating: yes/Y153.jpg            \n",
            "  inflating: yes/Y154.jpg            \n",
            "  inflating: yes/Y155.JPG            \n",
            "  inflating: yes/Y156.JPG            \n",
            "  inflating: yes/Y157.JPG            \n",
            "  inflating: yes/Y158.JPG            \n",
            "  inflating: yes/Y159.JPG            \n",
            "  inflating: yes/Y16.JPG             \n",
            "  inflating: yes/Y160.JPG            \n",
            "  inflating: yes/Y161.JPG            \n",
            "  inflating: yes/Y162.jpg            \n",
            "  inflating: yes/Y163.JPG            \n",
            "  inflating: yes/Y164.JPG            \n",
            "  inflating: yes/Y165.JPG            \n",
            "  inflating: yes/Y166.JPG            \n",
            "  inflating: yes/Y167.JPG            \n",
            "  inflating: yes/Y168.jpg            \n",
            "  inflating: yes/Y169.jpg            \n",
            "  inflating: yes/Y17.jpg             \n",
            "  inflating: yes/Y170.JPG            \n",
            "  inflating: yes/Y18.JPG             \n",
            "  inflating: yes/Y180.jpg            \n",
            "  inflating: yes/Y181.jpg            \n",
            "  inflating: yes/Y182.JPG            \n",
            "  inflating: yes/Y183.jpg            \n",
            "  inflating: yes/Y184.JPG            \n",
            "  inflating: yes/Y185.jpg            \n",
            "  inflating: yes/Y186.jpg            \n",
            "  inflating: yes/Y187.jpg            \n",
            "  inflating: yes/Y188.jpg            \n",
            "  inflating: yes/Y19.JPG             \n",
            "  inflating: yes/Y192.JPG            \n",
            "  inflating: yes/Y193.JPG            \n",
            "  inflating: yes/Y194.jpg            \n",
            "  inflating: yes/Y195.JPG            \n",
            "  inflating: yes/Y2.jpg              \n",
            "  inflating: yes/Y20.jpg             \n",
            "  inflating: yes/Y21.jpg             \n",
            "  inflating: yes/Y22.jpg             \n",
            "  inflating: yes/Y23.JPG             \n",
            "  inflating: yes/Y24.jpg             \n",
            "  inflating: yes/Y242.JPG            \n",
            "  inflating: yes/Y243.JPG            \n",
            "  inflating: yes/Y244.JPG            \n",
            "  inflating: yes/Y245.jpg            \n",
            "  inflating: yes/Y246.JPG            \n",
            "  inflating: yes/Y247.JPG            \n",
            "  inflating: yes/Y248.JPG            \n",
            "  inflating: yes/Y249.JPG            \n",
            "  inflating: yes/Y25.jpg             \n",
            "  inflating: yes/Y250.jpg            \n",
            "  inflating: yes/Y251.JPG            \n",
            "  inflating: yes/Y252.jpg            \n",
            "  inflating: yes/Y253.JPG            \n",
            "  inflating: yes/Y254.jpg            \n",
            "  inflating: yes/Y255.JPG            \n",
            "  inflating: yes/Y256.JPG            \n",
            "  inflating: yes/Y257.jpg            \n",
            "  inflating: yes/Y258.JPG            \n",
            "  inflating: yes/Y259.JPG            \n",
            "  inflating: yes/Y26.jpg             \n",
            "  inflating: yes/Y27.jpg             \n",
            "  inflating: yes/Y28.jpg             \n",
            "  inflating: yes/Y29.jpg             \n",
            "  inflating: yes/Y3.jpg              \n",
            "  inflating: yes/Y30.jpg             \n",
            "  inflating: yes/Y31.jpg             \n",
            "  inflating: yes/Y32.jpg             \n",
            "  inflating: yes/Y33.jpg             \n",
            "  inflating: yes/Y34.jpg             \n",
            "  inflating: yes/Y35.jpg             \n",
            "  inflating: yes/Y36.JPG             \n",
            "  inflating: yes/Y37.jpg             \n",
            "  inflating: yes/Y38.jpg             \n",
            "  inflating: yes/Y39.jpg             \n",
            "  inflating: yes/Y4.jpg              \n",
            "  inflating: yes/Y40.JPG             \n",
            "  inflating: yes/Y41.jpg             \n",
            "  inflating: yes/Y42.jpg             \n",
            "  inflating: yes/Y44.JPG             \n",
            "  inflating: yes/Y45.JPG             \n",
            "  inflating: yes/Y46.jpg             \n",
            "  inflating: yes/Y47.JPG             \n",
            "  inflating: yes/Y49.JPG             \n",
            "  inflating: yes/Y50.JPG             \n",
            "  inflating: yes/Y51.jpg             \n",
            "  inflating: yes/Y52.jpg             \n",
            "  inflating: yes/Y53.jpg             \n",
            "  inflating: yes/Y54.jpg             \n",
            "  inflating: yes/Y55.jpg             \n",
            "  inflating: yes/Y56.jpg             \n",
            "  inflating: yes/Y58.JPG             \n",
            "  inflating: yes/Y59.JPG             \n",
            "  inflating: yes/Y6.jpg              \n",
            "  inflating: yes/Y60.jpg             \n",
            "  inflating: yes/Y61.jpg             \n",
            "  inflating: yes/Y62.jpg             \n",
            "  inflating: yes/Y65.JPG             \n",
            "  inflating: yes/Y66.JPG             \n",
            "  inflating: yes/Y67.JPG             \n",
            "  inflating: yes/Y69.jpg             \n",
            "  inflating: yes/Y7.jpg              \n",
            "  inflating: yes/Y70.jpg             \n",
            "  inflating: yes/Y71.JPG             \n",
            "  inflating: yes/Y73.jpg             \n",
            "  inflating: yes/Y74.jpg             \n",
            "  inflating: yes/Y75.JPG             \n",
            "  inflating: yes/Y76.jpg             \n",
            "  inflating: yes/Y77.jpg             \n",
            "  inflating: yes/Y78.jpg             \n",
            "  inflating: yes/Y79.jpg             \n",
            "  inflating: yes/Y8.jpg              \n",
            "  inflating: yes/Y81.jpg             \n",
            "  inflating: yes/Y82.jpg             \n",
            "  inflating: yes/Y85.JPG             \n",
            "  inflating: yes/Y86.JPG             \n",
            "  inflating: yes/Y89.JPG             \n",
            "  inflating: yes/Y9.jpg              \n",
            "  inflating: yes/Y90.jpg             \n",
            "  inflating: yes/Y91.jpg             \n",
            "  inflating: yes/Y92.jpg             \n",
            "  inflating: yes/Y92.png             \n",
            "  inflating: yes/Y95.jpg             \n",
            "  inflating: yes/Y96.jpg             \n",
            "  inflating: yes/Y97.JPG             \n",
            "  inflating: yes/Y98.JPG             \n",
            "  inflating: yes/Y99.JPG             \n"
          ]
        }
      ]
    },
    {
      "cell_type": "markdown",
      "source": [
        "Import required Libraries"
      ],
      "metadata": {
        "id": "AhLIRV9r3DM2"
      }
    },
    {
      "cell_type": "code",
      "source": [
        "import os\n",
        "import numpy as np\n",
        "import cv2\n",
        "import math\n",
        "import shutil\n",
        "from tqdm import tqdm\n",
        "from tensorflow.keras.preprocessing.image import ImageDataGenerator\n",
        "import tensorflow as tf\n",
        "from tensorflow.keras.models import Sequential\n",
        "from tensorflow.keras.layers import Conv2D, MaxPool2D, Dropout, Flatten, Dense, BatchNormalization\n",
        "import matplotlib.pyplot as plt\n"
      ],
      "metadata": {
        "id": "9MJwCCyIX3m7"
      },
      "execution_count": null,
      "outputs": []
    },
    {
      "cell_type": "markdown",
      "source": [
        "Define Paths & Create Augmented Dataset"
      ],
      "metadata": {
        "id": "ALH6UXrr3Ncz"
      }
    },
    {
      "cell_type": "code",
      "source": [
        "ROOT_DIR = \"/content/brain_tumor_dataset\"\n",
        "AUGMENTED_DIR = \"/content/brain_tumor_dataset_augmented\"\n"
      ],
      "metadata": {
        "id": "QIzyV70PaoRJ"
      },
      "execution_count": null,
      "outputs": []
    },
    {
      "cell_type": "code",
      "source": [
        "for category in [\"Brain_Tumor\", \"Healthy\"]:\n",
        "    os.makedirs(os.path.join(AUGMENTED_DIR, category), exist_ok=True)"
      ],
      "metadata": {
        "id": "q7hEavR-bSxf"
      },
      "execution_count": null,
      "outputs": []
    },
    {
      "cell_type": "code",
      "source": [
        "datagen = ImageDataGenerator(\n",
        "    rotation_range=30,\n",
        "    width_shift_range=0.2,\n",
        "    height_shift_range=0.2,\n",
        "    shear_range=0.2,\n",
        "    zoom_range=0.2,\n",
        "    horizontal_flip=True,\n",
        "    fill_mode='nearest'\n",
        ")"
      ],
      "metadata": {
        "id": "EhhqVLwGbnod"
      },
      "execution_count": null,
      "outputs": []
    },
    {
      "cell_type": "markdown",
      "source": [
        "Augment & Save Images"
      ],
      "metadata": {
        "id": "KQTziuSm3UMx"
      }
    },
    {
      "cell_type": "code",
      "source": [
        "def augment_images(category, num_augmentations=5):\n",
        "    source_dir = os.path.join(ROOT_DIR, category)\n",
        "    target_dir = os.path.join(AUGMENTED_DIR, category)\n",
        "\n",
        "    images = os.listdir(source_dir)\n",
        "    for img_name in tqdm(images, desc=f\"Augmenting {category}\"):\n",
        "        img_path = os.path.join(source_dir, img_name)\n",
        "        img = cv2.imread(img_path)\n",
        "        img = cv2.cvtColor(img, cv2.COLOR_BGR2RGB)\n",
        "        img = cv2.resize(img, (224, 224))\n",
        "        img = np.expand_dims(img, axis=0)\n",
        "\n",
        "\n",
        "        i = 0\n",
        "        for batch in datagen.flow(img, batch_size=1):\n",
        "            new_img_name = f\"aug_{i}_{img_name}\"\n",
        "            new_img_path = os.path.join(target_dir, new_img_name)\n",
        "            cv2.imwrite(new_img_path, cv2.cvtColor(batch[0], cv2.COLOR_RGB2BGR))\n",
        "            i += 1\n",
        "            if i >= num_augmentations:\n",
        "                break\n"
      ],
      "metadata": {
        "id": "qxOODb5Kbozo"
      },
      "execution_count": null,
      "outputs": []
    },
    {
      "cell_type": "code",
      "source": [
        "augment_images(\"BrainTumor\", num_augmentations=5)\n",
        "augment_images(\"Healthy\", num_augmentations=10)\n",
        "\n",
        "print(\"✅ Dataset Augmentation Completed!\")"
      ],
      "metadata": {
        "colab": {
          "base_uri": "https://localhost:8080/"
        },
        "id": "Fd17sGw-btvD",
        "outputId": "44b1bb7f-0a7e-4018-e63f-20071144d060"
      },
      "execution_count": null,
      "outputs": [
        {
          "output_type": "stream",
          "name": "stderr",
          "text": [
            "Augmenting BrainTumor: 100%|██████████| 155/155 [00:11<00:00, 12.92it/s]\n",
            "Augmenting Healthy: 100%|██████████| 155/155 [00:23<00:00,  6.53it/s]"
          ]
        },
        {
          "output_type": "stream",
          "name": "stdout",
          "text": [
            "✅ Dataset Augmentation Completed!\n"
          ]
        },
        {
          "output_type": "stream",
          "name": "stderr",
          "text": [
            "\n"
          ]
        }
      ]
    },
    {
      "cell_type": "markdown",
      "source": [
        "Split Data into Train, Validation, and Test Sets"
      ],
      "metadata": {
        "id": "NhnRCHbt3aDb"
      }
    },
    {
      "cell_type": "code",
      "source": [
        "def split_data(source, train_ratio=0.7, val_ratio=0.15):\n",
        "    categories = [\"BrainTumor\", \"Healthy\"]\n",
        "    for category in categories:\n",
        "        img_list = os.listdir(os.path.join(source, category))\n",
        "        np.random.shuffle(img_list)\n",
        "\n",
        "        train_count = int(train_ratio * len(img_list))\n",
        "        val_count = int(val_ratio * len(img_list))\n",
        "\n",
        "        sets = {\n",
        "            \"train\": img_list[:train_count],\n",
        "            \"val\": img_list[train_count:train_count + val_count],\n",
        "            \"test\": img_list[train_count + val_count:]\n",
        "        }\n",
        "\n",
        "        for folder, imgs in sets.items():\n",
        "            folder_path = f\"/content/dataset/{folder}/{category}\"\n",
        "            os.makedirs(folder_path, exist_ok=True)\n",
        "            for img in imgs:\n",
        "                shutil.copy(os.path.join(source, category, img), folder_path)\n"
      ],
      "metadata": {
        "id": "7-7mPdIkcTKx"
      },
      "execution_count": null,
      "outputs": []
    },
    {
      "cell_type": "code",
      "source": [
        "split_data(AUGMENTED_DIR)\n",
        "\n",
        "print(\" Data Splitting Completed!\")"
      ],
      "metadata": {
        "colab": {
          "base_uri": "https://localhost:8080/"
        },
        "id": "TJN6DobOdgY3",
        "outputId": "88fd23f3-587e-4f69-900c-e397aab99e65"
      },
      "execution_count": null,
      "outputs": [
        {
          "output_type": "stream",
          "name": "stdout",
          "text": [
            "✅ Data Splitting Completed!\n"
          ]
        }
      ]
    },
    {
      "cell_type": "markdown",
      "source": [
        "Load Data for Training"
      ],
      "metadata": {
        "id": "3ARmUWma3den"
      }
    },
    {
      "cell_type": "code",
      "source": [
        "train_datagen = ImageDataGenerator(rescale=1./255, horizontal_flip=True)\n",
        "val_test_datagen = ImageDataGenerator(rescale=1./255)"
      ],
      "metadata": {
        "id": "5fSjWlIzd3mp"
      },
      "execution_count": null,
      "outputs": []
    },
    {
      "cell_type": "code",
      "source": [
        "train_data = train_datagen.flow_from_directory(\n",
        "    \"/content/dataset/train\", target_size=(224, 224), batch_size=32, class_mode=\"binary\"\n",
        ")"
      ],
      "metadata": {
        "colab": {
          "base_uri": "https://localhost:8080/"
        },
        "id": "lwvnfjNzd8wJ",
        "outputId": "c2194471-c57e-4202-d7ad-5911e522bff7"
      },
      "execution_count": null,
      "outputs": [
        {
          "output_type": "stream",
          "name": "stdout",
          "text": [
            "Found 2109 images belonging to 2 classes.\n"
          ]
        }
      ]
    },
    {
      "cell_type": "code",
      "source": [
        "val_data = val_test_datagen.flow_from_directory(\n",
        "    \"/content/dataset/val\", target_size=(224, 224), batch_size=32, class_mode=\"binary\"\n",
        ")"
      ],
      "metadata": {
        "colab": {
          "base_uri": "https://localhost:8080/"
        },
        "id": "7AriFFcheBgv",
        "outputId": "e5be128a-81c9-4b17-e4e6-05dc8f7d1643"
      },
      "execution_count": null,
      "outputs": [
        {
          "output_type": "stream",
          "name": "stdout",
          "text": [
            "Found 644 images belonging to 2 classes.\n"
          ]
        }
      ]
    },
    {
      "cell_type": "code",
      "source": [
        "test_data = val_test_datagen.flow_from_directory(\n",
        "    \"/content/dataset/test\", target_size=(224, 224), batch_size=32, class_mode=\"binary\"\n",
        ")"
      ],
      "metadata": {
        "colab": {
          "base_uri": "https://localhost:8080/"
        },
        "id": "IRj1PnZ8eEI0",
        "outputId": "9248babc-afc0-401e-86ed-cf5a2b61195c"
      },
      "execution_count": null,
      "outputs": [
        {
          "output_type": "stream",
          "name": "stdout",
          "text": [
            "Found 640 images belonging to 2 classes.\n"
          ]
        }
      ]
    },
    {
      "cell_type": "markdown",
      "source": [
        "Define CNN Model"
      ],
      "metadata": {
        "id": "NKXQpx373grX"
      }
    },
    {
      "cell_type": "code",
      "source": [
        "# ✅ Define Model\n",
        "model = Sequential([\n",
        "    Conv2D(32, (3, 3), activation='relu', input_shape=(224, 224, 3)),\n",
        "    MaxPool2D(2, 2),\n",
        "\n",
        "    Conv2D(64, (3, 3), activation='relu'),\n",
        "    MaxPool2D(2, 2),\n",
        "\n",
        "    Conv2D(128, (3, 3), activation='relu'),\n",
        "    MaxPool2D(2, 2),\n",
        "\n",
        "    Flatten(),\n",
        "    Dense(128, activation='relu'),\n",
        "    Dropout(0.5),\n",
        "    Dense(1, activation='sigmoid')\n",
        "])\n",
        "\n",
        "\n"
      ],
      "metadata": {
        "id": "HxRDMhF9eH8K"
      },
      "execution_count": null,
      "outputs": []
    },
    {
      "cell_type": "code",
      "source": [
        "model.compile(optimizer=\"adam\", loss=\"binary_crossentropy\", metrics=[\"accuracy\"])"
      ],
      "metadata": {
        "id": "Xcvu30CneLPg"
      },
      "execution_count": null,
      "outputs": []
    },
    {
      "cell_type": "code",
      "source": [
        "model.summary()"
      ],
      "metadata": {
        "colab": {
          "base_uri": "https://localhost:8080/",
          "height": 449
        },
        "id": "_6cLwT9VePtJ",
        "outputId": "a25a810a-6bc0-4fab-a7d6-3edc4e5fd827"
      },
      "execution_count": null,
      "outputs": [
        {
          "output_type": "display_data",
          "data": {
            "text/plain": [
              "\u001b[1mModel: \"sequential\"\u001b[0m\n"
            ],
            "text/html": [
              "<pre style=\"white-space:pre;overflow-x:auto;line-height:normal;font-family:Menlo,'DejaVu Sans Mono',consolas,'Courier New',monospace\"><span style=\"font-weight: bold\">Model: \"sequential\"</span>\n",
              "</pre>\n"
            ]
          },
          "metadata": {}
        },
        {
          "output_type": "display_data",
          "data": {
            "text/plain": [
              "┏━━━━━━━━━━━━━━━━━━━━━━━━━━━━━━━━━━━━━━┳━━━━━━━━━━━━━━━━━━━━━━━━━━━━━┳━━━━━━━━━━━━━━━━━┓\n",
              "┃\u001b[1m \u001b[0m\u001b[1mLayer (type)                        \u001b[0m\u001b[1m \u001b[0m┃\u001b[1m \u001b[0m\u001b[1mOutput Shape               \u001b[0m\u001b[1m \u001b[0m┃\u001b[1m \u001b[0m\u001b[1m        Param #\u001b[0m\u001b[1m \u001b[0m┃\n",
              "┡━━━━━━━━━━━━━━━━━━━━━━━━━━━━━━━━━━━━━━╇━━━━━━━━━━━━━━━━━━━━━━━━━━━━━╇━━━━━━━━━━━━━━━━━┩\n",
              "│ conv2d (\u001b[38;5;33mConv2D\u001b[0m)                      │ (\u001b[38;5;45mNone\u001b[0m, \u001b[38;5;34m222\u001b[0m, \u001b[38;5;34m222\u001b[0m, \u001b[38;5;34m32\u001b[0m)        │             \u001b[38;5;34m896\u001b[0m │\n",
              "├──────────────────────────────────────┼─────────────────────────────┼─────────────────┤\n",
              "│ max_pooling2d (\u001b[38;5;33mMaxPooling2D\u001b[0m)         │ (\u001b[38;5;45mNone\u001b[0m, \u001b[38;5;34m111\u001b[0m, \u001b[38;5;34m111\u001b[0m, \u001b[38;5;34m32\u001b[0m)        │               \u001b[38;5;34m0\u001b[0m │\n",
              "├──────────────────────────────────────┼─────────────────────────────┼─────────────────┤\n",
              "│ conv2d_1 (\u001b[38;5;33mConv2D\u001b[0m)                    │ (\u001b[38;5;45mNone\u001b[0m, \u001b[38;5;34m109\u001b[0m, \u001b[38;5;34m109\u001b[0m, \u001b[38;5;34m64\u001b[0m)        │          \u001b[38;5;34m18,496\u001b[0m │\n",
              "├──────────────────────────────────────┼─────────────────────────────┼─────────────────┤\n",
              "│ max_pooling2d_1 (\u001b[38;5;33mMaxPooling2D\u001b[0m)       │ (\u001b[38;5;45mNone\u001b[0m, \u001b[38;5;34m54\u001b[0m, \u001b[38;5;34m54\u001b[0m, \u001b[38;5;34m64\u001b[0m)          │               \u001b[38;5;34m0\u001b[0m │\n",
              "├──────────────────────────────────────┼─────────────────────────────┼─────────────────┤\n",
              "│ conv2d_2 (\u001b[38;5;33mConv2D\u001b[0m)                    │ (\u001b[38;5;45mNone\u001b[0m, \u001b[38;5;34m52\u001b[0m, \u001b[38;5;34m52\u001b[0m, \u001b[38;5;34m128\u001b[0m)         │          \u001b[38;5;34m73,856\u001b[0m │\n",
              "├──────────────────────────────────────┼─────────────────────────────┼─────────────────┤\n",
              "│ max_pooling2d_2 (\u001b[38;5;33mMaxPooling2D\u001b[0m)       │ (\u001b[38;5;45mNone\u001b[0m, \u001b[38;5;34m26\u001b[0m, \u001b[38;5;34m26\u001b[0m, \u001b[38;5;34m128\u001b[0m)         │               \u001b[38;5;34m0\u001b[0m │\n",
              "├──────────────────────────────────────┼─────────────────────────────┼─────────────────┤\n",
              "│ flatten (\u001b[38;5;33mFlatten\u001b[0m)                    │ (\u001b[38;5;45mNone\u001b[0m, \u001b[38;5;34m86528\u001b[0m)               │               \u001b[38;5;34m0\u001b[0m │\n",
              "├──────────────────────────────────────┼─────────────────────────────┼─────────────────┤\n",
              "│ dense (\u001b[38;5;33mDense\u001b[0m)                        │ (\u001b[38;5;45mNone\u001b[0m, \u001b[38;5;34m128\u001b[0m)                 │      \u001b[38;5;34m11,075,712\u001b[0m │\n",
              "├──────────────────────────────────────┼─────────────────────────────┼─────────────────┤\n",
              "│ dropout (\u001b[38;5;33mDropout\u001b[0m)                    │ (\u001b[38;5;45mNone\u001b[0m, \u001b[38;5;34m128\u001b[0m)                 │               \u001b[38;5;34m0\u001b[0m │\n",
              "├──────────────────────────────────────┼─────────────────────────────┼─────────────────┤\n",
              "│ dense_1 (\u001b[38;5;33mDense\u001b[0m)                      │ (\u001b[38;5;45mNone\u001b[0m, \u001b[38;5;34m1\u001b[0m)                   │             \u001b[38;5;34m129\u001b[0m │\n",
              "└──────────────────────────────────────┴─────────────────────────────┴─────────────────┘\n"
            ],
            "text/html": [
              "<pre style=\"white-space:pre;overflow-x:auto;line-height:normal;font-family:Menlo,'DejaVu Sans Mono',consolas,'Courier New',monospace\">┏━━━━━━━━━━━━━━━━━━━━━━━━━━━━━━━━━━━━━━┳━━━━━━━━━━━━━━━━━━━━━━━━━━━━━┳━━━━━━━━━━━━━━━━━┓\n",
              "┃<span style=\"font-weight: bold\"> Layer (type)                         </span>┃<span style=\"font-weight: bold\"> Output Shape                </span>┃<span style=\"font-weight: bold\">         Param # </span>┃\n",
              "┡━━━━━━━━━━━━━━━━━━━━━━━━━━━━━━━━━━━━━━╇━━━━━━━━━━━━━━━━━━━━━━━━━━━━━╇━━━━━━━━━━━━━━━━━┩\n",
              "│ conv2d (<span style=\"color: #0087ff; text-decoration-color: #0087ff\">Conv2D</span>)                      │ (<span style=\"color: #00d7ff; text-decoration-color: #00d7ff\">None</span>, <span style=\"color: #00af00; text-decoration-color: #00af00\">222</span>, <span style=\"color: #00af00; text-decoration-color: #00af00\">222</span>, <span style=\"color: #00af00; text-decoration-color: #00af00\">32</span>)        │             <span style=\"color: #00af00; text-decoration-color: #00af00\">896</span> │\n",
              "├──────────────────────────────────────┼─────────────────────────────┼─────────────────┤\n",
              "│ max_pooling2d (<span style=\"color: #0087ff; text-decoration-color: #0087ff\">MaxPooling2D</span>)         │ (<span style=\"color: #00d7ff; text-decoration-color: #00d7ff\">None</span>, <span style=\"color: #00af00; text-decoration-color: #00af00\">111</span>, <span style=\"color: #00af00; text-decoration-color: #00af00\">111</span>, <span style=\"color: #00af00; text-decoration-color: #00af00\">32</span>)        │               <span style=\"color: #00af00; text-decoration-color: #00af00\">0</span> │\n",
              "├──────────────────────────────────────┼─────────────────────────────┼─────────────────┤\n",
              "│ conv2d_1 (<span style=\"color: #0087ff; text-decoration-color: #0087ff\">Conv2D</span>)                    │ (<span style=\"color: #00d7ff; text-decoration-color: #00d7ff\">None</span>, <span style=\"color: #00af00; text-decoration-color: #00af00\">109</span>, <span style=\"color: #00af00; text-decoration-color: #00af00\">109</span>, <span style=\"color: #00af00; text-decoration-color: #00af00\">64</span>)        │          <span style=\"color: #00af00; text-decoration-color: #00af00\">18,496</span> │\n",
              "├──────────────────────────────────────┼─────────────────────────────┼─────────────────┤\n",
              "│ max_pooling2d_1 (<span style=\"color: #0087ff; text-decoration-color: #0087ff\">MaxPooling2D</span>)       │ (<span style=\"color: #00d7ff; text-decoration-color: #00d7ff\">None</span>, <span style=\"color: #00af00; text-decoration-color: #00af00\">54</span>, <span style=\"color: #00af00; text-decoration-color: #00af00\">54</span>, <span style=\"color: #00af00; text-decoration-color: #00af00\">64</span>)          │               <span style=\"color: #00af00; text-decoration-color: #00af00\">0</span> │\n",
              "├──────────────────────────────────────┼─────────────────────────────┼─────────────────┤\n",
              "│ conv2d_2 (<span style=\"color: #0087ff; text-decoration-color: #0087ff\">Conv2D</span>)                    │ (<span style=\"color: #00d7ff; text-decoration-color: #00d7ff\">None</span>, <span style=\"color: #00af00; text-decoration-color: #00af00\">52</span>, <span style=\"color: #00af00; text-decoration-color: #00af00\">52</span>, <span style=\"color: #00af00; text-decoration-color: #00af00\">128</span>)         │          <span style=\"color: #00af00; text-decoration-color: #00af00\">73,856</span> │\n",
              "├──────────────────────────────────────┼─────────────────────────────┼─────────────────┤\n",
              "│ max_pooling2d_2 (<span style=\"color: #0087ff; text-decoration-color: #0087ff\">MaxPooling2D</span>)       │ (<span style=\"color: #00d7ff; text-decoration-color: #00d7ff\">None</span>, <span style=\"color: #00af00; text-decoration-color: #00af00\">26</span>, <span style=\"color: #00af00; text-decoration-color: #00af00\">26</span>, <span style=\"color: #00af00; text-decoration-color: #00af00\">128</span>)         │               <span style=\"color: #00af00; text-decoration-color: #00af00\">0</span> │\n",
              "├──────────────────────────────────────┼─────────────────────────────┼─────────────────┤\n",
              "│ flatten (<span style=\"color: #0087ff; text-decoration-color: #0087ff\">Flatten</span>)                    │ (<span style=\"color: #00d7ff; text-decoration-color: #00d7ff\">None</span>, <span style=\"color: #00af00; text-decoration-color: #00af00\">86528</span>)               │               <span style=\"color: #00af00; text-decoration-color: #00af00\">0</span> │\n",
              "├──────────────────────────────────────┼─────────────────────────────┼─────────────────┤\n",
              "│ dense (<span style=\"color: #0087ff; text-decoration-color: #0087ff\">Dense</span>)                        │ (<span style=\"color: #00d7ff; text-decoration-color: #00d7ff\">None</span>, <span style=\"color: #00af00; text-decoration-color: #00af00\">128</span>)                 │      <span style=\"color: #00af00; text-decoration-color: #00af00\">11,075,712</span> │\n",
              "├──────────────────────────────────────┼─────────────────────────────┼─────────────────┤\n",
              "│ dropout (<span style=\"color: #0087ff; text-decoration-color: #0087ff\">Dropout</span>)                    │ (<span style=\"color: #00d7ff; text-decoration-color: #00d7ff\">None</span>, <span style=\"color: #00af00; text-decoration-color: #00af00\">128</span>)                 │               <span style=\"color: #00af00; text-decoration-color: #00af00\">0</span> │\n",
              "├──────────────────────────────────────┼─────────────────────────────┼─────────────────┤\n",
              "│ dense_1 (<span style=\"color: #0087ff; text-decoration-color: #0087ff\">Dense</span>)                      │ (<span style=\"color: #00d7ff; text-decoration-color: #00d7ff\">None</span>, <span style=\"color: #00af00; text-decoration-color: #00af00\">1</span>)                   │             <span style=\"color: #00af00; text-decoration-color: #00af00\">129</span> │\n",
              "└──────────────────────────────────────┴─────────────────────────────┴─────────────────┘\n",
              "</pre>\n"
            ]
          },
          "metadata": {}
        },
        {
          "output_type": "display_data",
          "data": {
            "text/plain": [
              "\u001b[1m Total params: \u001b[0m\u001b[38;5;34m11,169,089\u001b[0m (42.61 MB)\n"
            ],
            "text/html": [
              "<pre style=\"white-space:pre;overflow-x:auto;line-height:normal;font-family:Menlo,'DejaVu Sans Mono',consolas,'Courier New',monospace\"><span style=\"font-weight: bold\"> Total params: </span><span style=\"color: #00af00; text-decoration-color: #00af00\">11,169,089</span> (42.61 MB)\n",
              "</pre>\n"
            ]
          },
          "metadata": {}
        },
        {
          "output_type": "display_data",
          "data": {
            "text/plain": [
              "\u001b[1m Trainable params: \u001b[0m\u001b[38;5;34m11,169,089\u001b[0m (42.61 MB)\n"
            ],
            "text/html": [
              "<pre style=\"white-space:pre;overflow-x:auto;line-height:normal;font-family:Menlo,'DejaVu Sans Mono',consolas,'Courier New',monospace\"><span style=\"font-weight: bold\"> Trainable params: </span><span style=\"color: #00af00; text-decoration-color: #00af00\">11,169,089</span> (42.61 MB)\n",
              "</pre>\n"
            ]
          },
          "metadata": {}
        },
        {
          "output_type": "display_data",
          "data": {
            "text/plain": [
              "\u001b[1m Non-trainable params: \u001b[0m\u001b[38;5;34m0\u001b[0m (0.00 B)\n"
            ],
            "text/html": [
              "<pre style=\"white-space:pre;overflow-x:auto;line-height:normal;font-family:Menlo,'DejaVu Sans Mono',consolas,'Courier New',monospace\"><span style=\"font-weight: bold\"> Non-trainable params: </span><span style=\"color: #00af00; text-decoration-color: #00af00\">0</span> (0.00 B)\n",
              "</pre>\n"
            ]
          },
          "metadata": {}
        }
      ]
    },
    {
      "cell_type": "code",
      "source": [
        "from tensorflow.keras.callbacks import ModelCheckpoint, EarlyStopping"
      ],
      "metadata": {
        "id": "ygEoaX3neUl7"
      },
      "execution_count": null,
      "outputs": []
    },
    {
      "cell_type": "code",
      "source": [
        "es = EarlyStopping(monitor=\"val_loss\", patience=5, restore_best_weights=True)\n",
        "mc = ModelCheckpoint(\"best_model.h5\", save_best_only=True, monitor=\"val_accuracy\")"
      ],
      "metadata": {
        "id": "aDRLv2cueX4N"
      },
      "execution_count": null,
      "outputs": []
    },
    {
      "cell_type": "markdown",
      "source": [
        "Train the Model"
      ],
      "metadata": {
        "id": "2jnLYqpz3nzp"
      }
    },
    {
      "cell_type": "code",
      "source": [
        "history = model.fit(train_data, epochs=20, validation_data=val_data, callbacks=[es, mc])"
      ],
      "metadata": {
        "colab": {
          "base_uri": "https://localhost:8080/"
        },
        "id": "V8t1v4reeZhK",
        "outputId": "3bad4cb2-e97c-4632-c0f9-bea0c3cdb852"
      },
      "execution_count": null,
      "outputs": [
        {
          "metadata": {
            "tags": null
          },
          "name": "stdout",
          "output_type": "stream",
          "text": [
            "Epoch 1/20\n",
            "\u001b[1m66/66\u001b[0m \u001b[32m━━━━━━━━━━━━━━━━━━━━\u001b[0m\u001b[37m\u001b[0m \u001b[1m0s\u001b[0m 4s/step - accuracy: 0.6356 - loss: 0.6803"
          ]
        },
        {
          "metadata": {
            "tags": null
          },
          "name": "stderr",
          "output_type": "stream",
          "text": [
            "WARNING:absl:You are saving your model as an HDF5 file via `model.save()` or `keras.saving.save_model(model)`. This file format is considered legacy. We recommend using instead the native Keras format, e.g. `model.save('my_model.keras')` or `keras.saving.save_model(model, 'my_model.keras')`. \n"
          ]
        },
        {
          "metadata": {
            "tags": null
          },
          "name": "stdout",
          "output_type": "stream",
          "text": [
            "\u001b[1m66/66\u001b[0m \u001b[32m━━━━━━━━━━━━━━━━━━━━\u001b[0m\u001b[37m\u001b[0m \u001b[1m287s\u001b[0m 4s/step - accuracy: 0.6362 - loss: 0.6792 - val_accuracy: 0.7003 - val_loss: 0.5534\n",
            "Epoch 2/20\n",
            "\u001b[1m66/66\u001b[0m \u001b[32m━━━━━━━━━━━━━━━━━━━━\u001b[0m\u001b[37m\u001b[0m \u001b[1m0s\u001b[0m 4s/step - accuracy: 0.7444 - loss: 0.5068"
          ]
        },
        {
          "metadata": {
            "tags": null
          },
          "name": "stderr",
          "output_type": "stream",
          "text": [
            "WARNING:absl:You are saving your model as an HDF5 file via `model.save()` or `keras.saving.save_model(model)`. This file format is considered legacy. We recommend using instead the native Keras format, e.g. `model.save('my_model.keras')` or `keras.saving.save_model(model, 'my_model.keras')`. \n"
          ]
        },
        {
          "output_type": "stream",
          "name": "stdout",
          "text": [
            "\b\b\b\b\b\b\b\b\b\b\b\b\b\b\b\b\b\b\b\b\b\b\b\b\b\b\b\b\b\b\b\b\b\b\b\b\b\b\b\b\b\b\b\b\b\b\b\b\b\b\b\b\b\b\b\b\b\b\b\b\b\b\b\b\b\b\b\b\b\b\b\r\u001b[1m66/66\u001b[0m \u001b[32m━━━━━━━━━━━━━━━━━━━━\u001b[0m\u001b[37m\u001b[0m \u001b[1m272s\u001b[0m 4s/step - accuracy: 0.7441 - loss: 0.5073 - val_accuracy: 0.7143 - val_loss: 0.5365\n",
            "Epoch 3/20\n",
            "\u001b[1m66/66\u001b[0m \u001b[32m━━━━━━━━━━━━━━━━━━━━\u001b[0m\u001b[37m\u001b[0m \u001b[1m332s\u001b[0m 4s/step - accuracy: 0.7166 - loss: 0.5265 - val_accuracy: 0.7127 - val_loss: 0.5598\n",
            "Epoch 4/20\n",
            "\u001b[1m66/66\u001b[0m \u001b[32m━━━━━━━━━━━━━━━━━━━━\u001b[0m\u001b[37m\u001b[0m \u001b[1m0s\u001b[0m 4s/step - accuracy: 0.7664 - loss: 0.4856"
          ]
        },
        {
          "output_type": "stream",
          "name": "stderr",
          "text": [
            "WARNING:absl:You are saving your model as an HDF5 file via `model.save()` or `keras.saving.save_model(model)`. This file format is considered legacy. We recommend using instead the native Keras format, e.g. `model.save('my_model.keras')` or `keras.saving.save_model(model, 'my_model.keras')`. \n"
          ]
        },
        {
          "output_type": "stream",
          "name": "stdout",
          "text": [
            "\b\b\b\b\b\b\b\b\b\b\b\b\b\b\b\b\b\b\b\b\b\b\b\b\b\b\b\b\b\b\b\b\b\b\b\b\b\b\b\b\b\b\b\b\b\b\b\b\b\b\b\b\b\b\b\b\b\b\b\b\b\b\b\b\b\b\b\b\b\b\b\r\u001b[1m66/66\u001b[0m \u001b[32m━━━━━━━━━━━━━━━━━━━━\u001b[0m\u001b[37m\u001b[0m \u001b[1m285s\u001b[0m 4s/step - accuracy: 0.7665 - loss: 0.4855 - val_accuracy: 0.7655 - val_loss: 0.4721\n",
            "Epoch 5/20\n",
            "\u001b[1m66/66\u001b[0m \u001b[32m━━━━━━━━━━━━━━━━━━━━\u001b[0m\u001b[37m\u001b[0m \u001b[1m258s\u001b[0m 4s/step - accuracy: 0.7888 - loss: 0.4475 - val_accuracy: 0.7252 - val_loss: 0.5577\n",
            "Epoch 6/20\n",
            "\u001b[1m66/66\u001b[0m \u001b[32m━━━━━━━━━━━━━━━━━━━━\u001b[0m\u001b[37m\u001b[0m \u001b[1m0s\u001b[0m 4s/step - accuracy: 0.7609 - loss: 0.4793"
          ]
        },
        {
          "output_type": "stream",
          "name": "stderr",
          "text": [
            "WARNING:absl:You are saving your model as an HDF5 file via `model.save()` or `keras.saving.save_model(model)`. This file format is considered legacy. We recommend using instead the native Keras format, e.g. `model.save('my_model.keras')` or `keras.saving.save_model(model, 'my_model.keras')`. \n"
          ]
        },
        {
          "output_type": "stream",
          "name": "stdout",
          "text": [
            "\b\b\b\b\b\b\b\b\b\b\b\b\b\b\b\b\b\b\b\b\b\b\b\b\b\b\b\b\b\b\b\b\b\b\b\b\b\b\b\b\b\b\b\b\b\b\b\b\b\b\b\b\b\b\b\b\b\b\b\b\b\b\b\b\b\b\b\b\b\b\b\r\u001b[1m66/66\u001b[0m \u001b[32m━━━━━━━━━━━━━━━━━━━━\u001b[0m\u001b[37m\u001b[0m \u001b[1m272s\u001b[0m 4s/step - accuracy: 0.7612 - loss: 0.4789 - val_accuracy: 0.7826 - val_loss: 0.4560\n",
            "Epoch 7/20\n",
            "\u001b[1m66/66\u001b[0m \u001b[32m━━━━━━━━━━━━━━━━━━━━\u001b[0m\u001b[37m\u001b[0m \u001b[1m0s\u001b[0m 4s/step - accuracy: 0.8207 - loss: 0.3982"
          ]
        },
        {
          "output_type": "stream",
          "name": "stderr",
          "text": [
            "WARNING:absl:You are saving your model as an HDF5 file via `model.save()` or `keras.saving.save_model(model)`. This file format is considered legacy. We recommend using instead the native Keras format, e.g. `model.save('my_model.keras')` or `keras.saving.save_model(model, 'my_model.keras')`. \n"
          ]
        },
        {
          "output_type": "stream",
          "name": "stdout",
          "text": [
            "\b\b\b\b\b\b\b\b\b\b\b\b\b\b\b\b\b\b\b\b\b\b\b\b\b\b\b\b\b\b\b\b\b\b\b\b\b\b\b\b\b\b\b\b\b\b\b\b\b\b\b\b\b\b\b\b\b\b\b\b\b\b\b\b\b\b\b\b\b\b\b\r\u001b[1m66/66\u001b[0m \u001b[32m━━━━━━━━━━━━━━━━━━━━\u001b[0m\u001b[37m\u001b[0m \u001b[1m257s\u001b[0m 4s/step - accuracy: 0.8206 - loss: 0.3984 - val_accuracy: 0.8199 - val_loss: 0.4180\n",
            "Epoch 8/20\n",
            "\u001b[1m66/66\u001b[0m \u001b[32m━━━━━━━━━━━━━━━━━━━━\u001b[0m\u001b[37m\u001b[0m \u001b[1m265s\u001b[0m 4s/step - accuracy: 0.8124 - loss: 0.4070 - val_accuracy: 0.8168 - val_loss: 0.4127\n",
            "Epoch 9/20\n",
            "\u001b[1m66/66\u001b[0m \u001b[32m━━━━━━━━━━━━━━━━━━━━\u001b[0m\u001b[37m\u001b[0m \u001b[1m0s\u001b[0m 4s/step - accuracy: 0.8495 - loss: 0.3383"
          ]
        },
        {
          "output_type": "stream",
          "name": "stderr",
          "text": [
            "WARNING:absl:You are saving your model as an HDF5 file via `model.save()` or `keras.saving.save_model(model)`. This file format is considered legacy. We recommend using instead the native Keras format, e.g. `model.save('my_model.keras')` or `keras.saving.save_model(model, 'my_model.keras')`. \n"
          ]
        },
        {
          "output_type": "stream",
          "name": "stdout",
          "text": [
            "\b\b\b\b\b\b\b\b\b\b\b\b\b\b\b\b\b\b\b\b\b\b\b\b\b\b\b\b\b\b\b\b\b\b\b\b\b\b\b\b\b\b\b\b\b\b\b\b\b\b\b\b\b\b\b\b\b\b\b\b\b\b\b\b\b\b\b\b\b\b\b\r\u001b[1m66/66\u001b[0m \u001b[32m━━━━━━━━━━━━━━━━━━━━\u001b[0m\u001b[37m\u001b[0m \u001b[1m260s\u001b[0m 4s/step - accuracy: 0.8493 - loss: 0.3387 - val_accuracy: 0.8494 - val_loss: 0.3786\n",
            "Epoch 10/20\n",
            "\u001b[1m66/66\u001b[0m \u001b[32m━━━━━━━━━━━━━━━━━━━━\u001b[0m\u001b[37m\u001b[0m \u001b[1m0s\u001b[0m 4s/step - accuracy: 0.8579 - loss: 0.3333"
          ]
        },
        {
          "output_type": "stream",
          "name": "stderr",
          "text": [
            "WARNING:absl:You are saving your model as an HDF5 file via `model.save()` or `keras.saving.save_model(model)`. This file format is considered legacy. We recommend using instead the native Keras format, e.g. `model.save('my_model.keras')` or `keras.saving.save_model(model, 'my_model.keras')`. \n"
          ]
        },
        {
          "output_type": "stream",
          "name": "stdout",
          "text": [
            "\b\b\b\b\b\b\b\b\b\b\b\b\b\b\b\b\b\b\b\b\b\b\b\b\b\b\b\b\b\b\b\b\b\b\b\b\b\b\b\b\b\b\b\b\b\b\b\b\b\b\b\b\b\b\b\b\b\b\b\b\b\b\b\b\b\b\b\b\b\b\b\r\u001b[1m66/66\u001b[0m \u001b[32m━━━━━━━━━━━━━━━━━━━━\u001b[0m\u001b[37m\u001b[0m \u001b[1m258s\u001b[0m 4s/step - accuracy: 0.8580 - loss: 0.3331 - val_accuracy: 0.8602 - val_loss: 0.3479\n",
            "Epoch 11/20\n",
            "\u001b[1m66/66\u001b[0m \u001b[32m━━━━━━━━━━━━━━━━━━━━\u001b[0m\u001b[37m\u001b[0m \u001b[1m0s\u001b[0m 4s/step - accuracy: 0.8944 - loss: 0.2620"
          ]
        },
        {
          "output_type": "stream",
          "name": "stderr",
          "text": [
            "WARNING:absl:You are saving your model as an HDF5 file via `model.save()` or `keras.saving.save_model(model)`. This file format is considered legacy. We recommend using instead the native Keras format, e.g. `model.save('my_model.keras')` or `keras.saving.save_model(model, 'my_model.keras')`. \n"
          ]
        },
        {
          "output_type": "stream",
          "name": "stdout",
          "text": [
            "\b\b\b\b\b\b\b\b\b\b\b\b\b\b\b\b\b\b\b\b\b\b\b\b\b\b\b\b\b\b\b\b\b\b\b\b\b\b\b\b\b\b\b\b\b\b\b\b\b\b\b\b\b\b\b\b\b\b\b\b\b\b\b\b\b\b\b\b\b\b\b\r\u001b[1m66/66\u001b[0m \u001b[32m━━━━━━━━━━━━━━━━━━━━\u001b[0m\u001b[37m\u001b[0m \u001b[1m261s\u001b[0m 4s/step - accuracy: 0.8943 - loss: 0.2622 - val_accuracy: 0.8696 - val_loss: 0.3346\n",
            "Epoch 12/20\n",
            "\u001b[1m66/66\u001b[0m \u001b[32m━━━━━━━━━━━━━━━━━━━━\u001b[0m\u001b[37m\u001b[0m \u001b[1m0s\u001b[0m 4s/step - accuracy: 0.9141 - loss: 0.2347"
          ]
        },
        {
          "output_type": "stream",
          "name": "stderr",
          "text": [
            "WARNING:absl:You are saving your model as an HDF5 file via `model.save()` or `keras.saving.save_model(model)`. This file format is considered legacy. We recommend using instead the native Keras format, e.g. `model.save('my_model.keras')` or `keras.saving.save_model(model, 'my_model.keras')`. \n"
          ]
        },
        {
          "output_type": "stream",
          "name": "stdout",
          "text": [
            "\b\b\b\b\b\b\b\b\b\b\b\b\b\b\b\b\b\b\b\b\b\b\b\b\b\b\b\b\b\b\b\b\b\b\b\b\b\b\b\b\b\b\b\b\b\b\b\b\b\b\b\b\b\b\b\b\b\b\b\b\b\b\b\b\b\b\b\b\b\b\b\r\u001b[1m66/66\u001b[0m \u001b[32m━━━━━━━━━━━━━━━━━━━━\u001b[0m\u001b[37m\u001b[0m \u001b[1m266s\u001b[0m 4s/step - accuracy: 0.9139 - loss: 0.2348 - val_accuracy: 0.8898 - val_loss: 0.3207\n",
            "Epoch 13/20\n",
            "\u001b[1m66/66\u001b[0m \u001b[32m━━━━━━━━━━━━━━━━━━━━\u001b[0m\u001b[37m\u001b[0m \u001b[1m0s\u001b[0m 4s/step - accuracy: 0.8929 - loss: 0.2486"
          ]
        },
        {
          "output_type": "stream",
          "name": "stderr",
          "text": [
            "WARNING:absl:You are saving your model as an HDF5 file via `model.save()` or `keras.saving.save_model(model)`. This file format is considered legacy. We recommend using instead the native Keras format, e.g. `model.save('my_model.keras')` or `keras.saving.save_model(model, 'my_model.keras')`. \n"
          ]
        },
        {
          "output_type": "stream",
          "name": "stdout",
          "text": [
            "\b\b\b\b\b\b\b\b\b\b\b\b\b\b\b\b\b\b\b\b\b\b\b\b\b\b\b\b\b\b\b\b\b\b\b\b\b\b\b\b\b\b\b\b\b\b\b\b\b\b\b\b\b\b\b\b\b\b\b\b\b\b\b\b\b\b\b\b\b\b\b\r\u001b[1m66/66\u001b[0m \u001b[32m━━━━━━━━━━━━━━━━━━━━\u001b[0m\u001b[37m\u001b[0m \u001b[1m256s\u001b[0m 4s/step - accuracy: 0.8930 - loss: 0.2483 - val_accuracy: 0.9161 - val_loss: 0.2694\n",
            "Epoch 14/20\n",
            "\u001b[1m66/66\u001b[0m \u001b[32m━━━━━━━━━━━━━━━━━━━━\u001b[0m\u001b[37m\u001b[0m \u001b[1m261s\u001b[0m 4s/step - accuracy: 0.9246 - loss: 0.1817 - val_accuracy: 0.8960 - val_loss: 0.2737\n",
            "Epoch 15/20\n",
            "\u001b[1m66/66\u001b[0m \u001b[32m━━━━━━━━━━━━━━━━━━━━\u001b[0m\u001b[37m\u001b[0m \u001b[1m0s\u001b[0m 4s/step - accuracy: 0.9395 - loss: 0.1491"
          ]
        },
        {
          "output_type": "stream",
          "name": "stderr",
          "text": [
            "WARNING:absl:You are saving your model as an HDF5 file via `model.save()` or `keras.saving.save_model(model)`. This file format is considered legacy. We recommend using instead the native Keras format, e.g. `model.save('my_model.keras')` or `keras.saving.save_model(model, 'my_model.keras')`. \n"
          ]
        },
        {
          "output_type": "stream",
          "name": "stdout",
          "text": [
            "\b\b\b\b\b\b\b\b\b\b\b\b\b\b\b\b\b\b\b\b\b\b\b\b\b\b\b\b\b\b\b\b\b\b\b\b\b\b\b\b\b\b\b\b\b\b\b\b\b\b\b\b\b\b\b\b\b\b\b\b\b\b\b\b\b\b\b\b\b\b\b\r\u001b[1m66/66\u001b[0m \u001b[32m━━━━━━━━━━━━━━━━━━━━\u001b[0m\u001b[37m\u001b[0m \u001b[1m256s\u001b[0m 4s/step - accuracy: 0.9395 - loss: 0.1492 - val_accuracy: 0.9208 - val_loss: 0.2565\n",
            "Epoch 16/20\n",
            "\u001b[1m66/66\u001b[0m \u001b[32m━━━━━━━━━━━━━━━━━━━━\u001b[0m\u001b[37m\u001b[0m \u001b[1m261s\u001b[0m 4s/step - accuracy: 0.9558 - loss: 0.1294 - val_accuracy: 0.9115 - val_loss: 0.2963\n",
            "Epoch 17/20\n",
            "\u001b[1m66/66\u001b[0m \u001b[32m━━━━━━━━━━━━━━━━━━━━\u001b[0m\u001b[37m\u001b[0m \u001b[1m0s\u001b[0m 4s/step - accuracy: 0.9563 - loss: 0.1109"
          ]
        },
        {
          "output_type": "stream",
          "name": "stderr",
          "text": [
            "WARNING:absl:You are saving your model as an HDF5 file via `model.save()` or `keras.saving.save_model(model)`. This file format is considered legacy. We recommend using instead the native Keras format, e.g. `model.save('my_model.keras')` or `keras.saving.save_model(model, 'my_model.keras')`. \n"
          ]
        },
        {
          "output_type": "stream",
          "name": "stdout",
          "text": [
            "\b\b\b\b\b\b\b\b\b\b\b\b\b\b\b\b\b\b\b\b\b\b\b\b\b\b\b\b\b\b\b\b\b\b\b\b\b\b\b\b\b\b\b\b\b\b\b\b\b\b\b\b\b\b\b\b\b\b\b\b\b\b\b\b\b\b\b\b\b\b\b\r\u001b[1m66/66\u001b[0m \u001b[32m━━━━━━━━━━━━━━━━━━━━\u001b[0m\u001b[37m\u001b[0m \u001b[1m256s\u001b[0m 4s/step - accuracy: 0.9565 - loss: 0.1109 - val_accuracy: 0.9441 - val_loss: 0.2517\n",
            "Epoch 18/20\n",
            "\u001b[1m66/66\u001b[0m \u001b[32m━━━━━━━━━━━━━━━━━━━━\u001b[0m\u001b[37m\u001b[0m \u001b[1m255s\u001b[0m 4s/step - accuracy: 0.9625 - loss: 0.1076 - val_accuracy: 0.9379 - val_loss: 0.2750\n",
            "Epoch 19/20\n",
            "\u001b[1m66/66\u001b[0m \u001b[32m━━━━━━━━━━━━━━━━━━━━\u001b[0m\u001b[37m\u001b[0m \u001b[1m270s\u001b[0m 4s/step - accuracy: 0.9671 - loss: 0.0827 - val_accuracy: 0.9394 - val_loss: 0.3215\n",
            "Epoch 20/20\n",
            "\u001b[1m66/66\u001b[0m \u001b[32m━━━━━━━━━━━━━━━━━━━━\u001b[0m\u001b[37m\u001b[0m \u001b[1m254s\u001b[0m 4s/step - accuracy: 0.9691 - loss: 0.0870 - val_accuracy: 0.9363 - val_loss: 0.2919\n"
          ]
        }
      ]
    },
    {
      "cell_type": "code",
      "source": [
        "plt.plot(history.history[\"accuracy\"], label=\"Train Accuracy\")\n",
        "plt.plot(history.history[\"val_accuracy\"], label=\"Val Accuracy\")\n",
        "plt.legend()\n",
        "plt.show()"
      ],
      "metadata": {
        "colab": {
          "base_uri": "https://localhost:8080/",
          "height": 430
        },
        "id": "c7_0DB3SouRj",
        "outputId": "fac5d828-c1bb-47cd-ccae-079915a41e02"
      },
      "execution_count": null,
      "outputs": [
        {
          "output_type": "display_data",
          "data": {
            "text/plain": [
              "<Figure size 640x480 with 1 Axes>"
            ],
            "image/png": "[encoded data removed]"
          },
          "metadata": {}
        }
      ]
    },
    {
      "cell_type": "code",
      "source": [
        "plt.plot(history.history[\"loss\"], label=\"Train Loss\")\n",
        "plt.plot(history.history[\"val_loss\"], label=\"Val Loss\")\n",
        "plt.legend()\n",
        "plt.show()"
      ],
      "metadata": {
        "colab": {
          "base_uri": "https://localhost:8080/",
          "height": 430
        },
        "id": "o2iLUfygoxJ9",
        "outputId": "a5a843b4-6c6b-4ca2-c41f-3816d6594d73"
      },
      "execution_count": null,
      "outputs": [
        {
          "output_type": "display_data",
          "data": {
            "text/plain": [
              "<Figure size 640x480 with 1 Axes>"
            ],
            "image/png": "[encoded data removed]"
          },
          "metadata": {}
        }
      ]
    },
    {
      "cell_type": "code",
      "source": [
        "model.load_weights(\"best_model.h5\")"
      ],
      "metadata": {
        "id": "W0jnhyRFy9ye"
      },
      "execution_count": null,
      "outputs": []
    },
    {
      "cell_type": "markdown",
      "source": [
        "Evaluate Model on Test Data"
      ],
      "metadata": {
        "id": "bvwm3GCG3sMd"
      }
    },
    {
      "cell_type": "code",
      "source": [
        "test_loss, test_acc = model.evaluate(test_data)\n",
        "print(f\"✅ Model Test Accuracy: {test_acc * 100:.2f}%\")"
      ],
      "metadata": {
        "colab": {
          "base_uri": "https://localhost:8080/"
        },
        "id": "n15cCK8fzBHd",
        "outputId": "81308661-c48b-407c-8a44-d8c7b100386f"
      },
      "execution_count": null,
      "outputs": [
        {
          "output_type": "stream",
          "name": "stdout",
          "text": [
            "\u001b[1m20/20\u001b[0m \u001b[32m━━━━━━━━━━━━━━━━━━━━\u001b[0m\u001b[37m\u001b[0m \u001b[1m22s\u001b[0m 1s/step - accuracy: 0.9381 - loss: 0.2542\n",
            "✅ Model Test Accuracy: 94.22%\n"
          ]
        }
      ]
    },
    {
      "cell_type": "code",
      "source": [
        "from tensorflow.keras.preprocessing.image import load_img, img_to_array\n",
        "\n",
        "\n",
        "def predict_image(image_path):\n",
        "    img = load_img(image_path, target_size=(224, 224))\n",
        "    img_array = img_to_array(img) / 255.0\n",
        "    img_array = np.expand_dims(img_array, axis=0)\n",
        "\n",
        "    prediction = model.predict(img_array)[0][0]\n",
        "\n",
        "    if prediction < 0.5:\n",
        "        print(\"🔴 The MRI has a Brain Tumor\")\n",
        "    else:\n",
        "        print(\"🟢 The MRI is Healthy\")\n",
        "\n",
        "\n",
        "predict_image(\"/content/Screenshot (545).png\")"
      ],
      "metadata": {
        "colab": {
          "base_uri": "https://localhost:8080/"
        },
        "id": "NWoRi-BdzPpa",
        "outputId": "3b312b88-562d-4715-856a-da00299f6ff2"
      },
      "execution_count": null,
      "outputs": [
        {
          "output_type": "stream",
          "name": "stdout",
          "text": [
            "\u001b[1m1/1\u001b[0m \u001b[32m━━━━━━━━━━━━━━━━━━━━\u001b[0m\u001b[37m\u001b[0m \u001b[1m0s\u001b[0m 74ms/step\n",
            "🔴 The MRI has a Brain Tumor\n"
          ]
        }
      ]
    }
  ]
}